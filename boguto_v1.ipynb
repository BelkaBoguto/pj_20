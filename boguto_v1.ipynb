{
 "cells": [
  {
   "cell_type": "markdown",
   "id": "ee804917",
   "metadata": {
    "toc": true
   },
   "source": [
    "<h1>Table of Contents<span class=\"tocSkip\"></span></h1>\n",
    "<div class=\"toc\"><ul class=\"toc-item\"><li><span><a href=\"#Описание-проекта\" data-toc-modified-id=\"Описание-проекта-1\"><span class=\"toc-item-num\">1&nbsp;&nbsp;</span>Описание проекта</a></span></li><li><span><a href=\"#Описание-данных\" data-toc-modified-id=\"Описание-данных-2\"><span class=\"toc-item-num\">2&nbsp;&nbsp;</span>Описание данных</a></span></li><li><span><a href=\"#План-проекта\" data-toc-modified-id=\"План-проекта-3\"><span class=\"toc-item-num\">3&nbsp;&nbsp;</span>План проекта</a></span></li><li><span><a href=\"#Загрузка-библиотек\" data-toc-modified-id=\"Загрузка-библиотек-4\"><span class=\"toc-item-num\">4&nbsp;&nbsp;</span>Загрузка библиотек</a></span></li><li><span><a href=\"#Загрузка-данных\" data-toc-modified-id=\"Загрузка-данных-5\"><span class=\"toc-item-num\">5&nbsp;&nbsp;</span>Загрузка данных</a></span></li><li><span><a href=\"#Исследовательский-анализ-данных\" data-toc-modified-id=\"Исследовательский-анализ-данных-6\"><span class=\"toc-item-num\">6&nbsp;&nbsp;</span>Исследовательский анализ данных</a></span></li></ul></div>"
   ]
  },
  {
   "cell_type": "markdown",
   "id": "f431c4be",
   "metadata": {},
   "source": [
    "# Выпускной проект: Промышленность"
   ]
  },
  {
   "cell_type": "markdown",
   "id": "119570c9",
   "metadata": {},
   "source": [
    "## Описание проекта"
   ]
  },
  {
   "cell_type": "markdown",
   "id": "7ee5e1de",
   "metadata": {},
   "source": [
    "Наш заказчик - металлургический комбинат \"Стальная птица\". Его цель - уменьшить потребление электроэнергии на этапе обработки стали. Для этого предполагается контролировать температуру сплава, с помощью модели, которая будет ее предсказывать, имитируя технологический процесс."
   ]
  },
  {
   "cell_type": "markdown",
   "id": "a6560e42",
   "metadata": {},
   "source": [
    "**Описание процесса обработки.**\n",
    "\n",
    "Сталь обрабатывают в металлическом ковше вместимостью около 100 тонн. Чтобы ковш выдерживал высокие температуры, изнутри его облицовывают огнеупорным кирпичом. Расплавленную сталь заливают в ковш и подогревают до нужной температуры графитовыми электродами. Они установлены на крышке ковша.    \n",
    "Сначала происходит десульфурация — из стали выводят серу и корректируют её химический состав добавлением примесей. Затем сталь легируют — добавляют в неё куски сплава из бункера для сыпучих материалов или порошковую проволоку через специальный трайб-аппарат.\n",
    "Прежде чем в первый раз ввести легирующие добавки, специалисты производят химический анализ стали и измеряют её температуру. Потом температуру на несколько минут повышают, уже после этого добавляют легирующие материалы и продувают сталь инертным газом, чтобы перемешать, а затем снова проводят измерения. Такой цикл повторяется до тех пор, пока не будут достигнуты нужный химический состав стали и оптимальная температура плавки.    \n",
    "Дальше расплавленная сталь отправляется на доводку металла или поступает в машину непрерывной разливки. Оттуда готовый продукт выходит в виде заготовок-слябов (англ. slab, «плита»)."
   ]
  },
  {
   "cell_type": "markdown",
   "id": "e5cab21d",
   "metadata": {},
   "source": [
    "## Описание данных"
   ]
  },
  {
   "cell_type": "markdown",
   "id": "97705da2",
   "metadata": {},
   "source": [
    "Данные хранятся в Sqlite  — СУБД, в которой база данных представлена одним файлом. Она состоит из нескольких таблиц:    \n",
    "- `steel.data_arc` — данные об электродах;\n",
    "- `steel.data_bulk` — данные об объёме сыпучих материалов;\n",
    "- `steel.data_bulk_time` — данные о времени подачи сыпучих материалов;\n",
    "- `steel.data_gas` — данные о продувке сплава газом;\n",
    "- `steel.data_temp` — данные об измерениях температуры;\n",
    "- `steel.data_wire` — данные об объёме проволочных материалов;\n",
    "- `steel.data_wire_time` — данные о времени подачи проволочных материалов."
   ]
  },
  {
   "cell_type": "markdown",
   "id": "f9b87849",
   "metadata": {},
   "source": [
    "**Таблица `steel.data_arc`**    \n",
    "- key — номер партии;\n",
    "- BeginHeat — время начала нагрева;\n",
    "- EndHeat — время окончания нагрева;\n",
    "- ActivePower — значение активной мощности; \n",
    "- ReactivePower — значение реактивной мощности.   \n",
    "\n",
    "**Таблица `steel.data_bulk`**\n",
    "- key — номер партии;\n",
    "- Bulk1 … Bulk15 — объём подаваемого материала.   \n",
    "\n",
    "**Таблица `steel.data_bulk_time`**\n",
    "- key — номер партии;\n",
    "- Bulk1 … Bulk15 — время подачи материала.   \n",
    "\n",
    "**Таблица `steel.data_gas`**\n",
    "- key — номер партии;\n",
    "- gas — объём подаваемого газа.   \n",
    "\n",
    "**Таблица `steel.data_temp`**\n",
    "- key — номер партии;\n",
    "- MesaureTime — время замера;\n",
    "- Temperature — значение температуры.   \n",
    "\n",
    "**Таблица `steel.data_wire`**\n",
    "- key — номер партии;\n",
    "- Wire1 … Wire9 — объём подаваемых проволочных материалов.   \n",
    "\n",
    "**Таблица `steel.data_wire_time`**\n",
    "- key — номер партии;\n",
    "- Wire1 … Wire9 — время подачи проволочных материалов.   \n",
    "\n",
    "Во всех файлах столбец `key` содержит номер партии. В таблицах может быть несколько строк с одинаковым значением `key`: они соответствуют разным итерациям обработки.   \n",
    "\n",
    "Целевой признак — последняя температура партии. Начальную температуру партии можно использовать как входной признак. Любые другие промежуточные значения температуры приведут к утечке целевого признака, их нельзя использовать как входные."
   ]
  },
  {
   "cell_type": "markdown",
   "id": "cb9625a8",
   "metadata": {},
   "source": [
    "## План проекта"
   ]
  },
  {
   "cell_type": "markdown",
   "id": "0d019b98",
   "metadata": {},
   "source": [
    "Предполагаются следующие шаги проекта:\n",
    "1. **Загрузка данных**\n",
    "2. **Исследовательский анализ данных**\n",
    "  1. Проверка данных в каждой таблице\n",
    "  1. Проверим соответствие таблиц данных условию задачи\n",
    "  1. Проверим наличие пропусков и аномалий\n",
    "  1. Примем решение, как поступить с аномальными данными\n",
    "  1. Сгенерируем новые признаки\n",
    "  1. Произведем агрегирование данных из нескольких таблиц\n",
    "  1. Подготовим данные для обучения\n",
    "1. **Обучение моделей**.\n",
    "  1. Рассмотрение как минимум трех классов моделей: дерево решений, бустинг, нейронная сеть.\n",
    "  1. Поиск лучшей модели для предсказания последней измеренной температуры. В качестве метрики следует использовать МАЕ, и не забыть о кросс-валидации.\n",
    "  1. В процессе поиска лучшей модели произвести подбор гиперпараметров как минимум для одного из класса моделей.\n",
    "1. **Оценка качества модели** на тестовой выборке.\n",
    "  1. Произвести тестирование модели на тестовой выборке. Значение МАЕ должно быть менее 6,8.\n",
    "  1. Дополнительно можно оценить R²\n",
    "  1. Сранвить значение метрики лучшей модели с константной моделью.\n",
    "  1. Проанализировать важность признаков.\n",
    "  1. Для одного из важных признаков произвести дополнительное исследование (рафик зависимости входного и целевого признаков)\n",
    "1. Написать **общий вывод о работе**, предложить способы дальнейшего улушения модели и составить бизнез-рекомендации заказчику."
   ]
  },
  {
   "cell_type": "code",
   "execution_count": 1,
   "id": "7180961a",
   "metadata": {},
   "outputs": [
    {
     "data": {
      "text/html": [
       "<style>.container { width:80% !important; }</style>"
      ],
      "text/plain": [
       "<IPython.core.display.HTML object>"
      ]
     },
     "metadata": {},
     "output_type": "display_data"
    }
   ],
   "source": [
    "from IPython.display import display, HTML\n",
    "display(HTML(\"<style>.container { width:80% !important; }</style>\"))"
   ]
  },
  {
   "cell_type": "markdown",
   "id": "eec37ca3",
   "metadata": {},
   "source": [
    "## Загрузка библиотек"
   ]
  },
  {
   "cell_type": "code",
   "execution_count": 2,
   "id": "ad31b8f2",
   "metadata": {},
   "outputs": [],
   "source": [
    "# обновляю библиотеку\n",
    "\n",
    "!pip install --upgrade scikit-learn -q"
   ]
  },
  {
   "cell_type": "code",
   "execution_count": 3,
   "id": "cecb3945",
   "metadata": {},
   "outputs": [],
   "source": [
    "# установим библиотеку для sql\n",
    "\n",
    "!pip install sqlalchemy -q"
   ]
  },
  {
   "cell_type": "code",
   "execution_count": 4,
   "id": "0efa5ab3",
   "metadata": {},
   "outputs": [],
   "source": [
    "# библиотеку, возможно, нужно установить\n",
    "\n",
    "!pip install shap -q"
   ]
  },
  {
   "cell_type": "code",
   "execution_count": 5,
   "id": "19602a40",
   "metadata": {},
   "outputs": [],
   "source": [
    "# библиотеку, возможно, нужно установить\n",
    "\n",
    "!pip install lightgbm -q"
   ]
  },
  {
   "cell_type": "code",
   "execution_count": 6,
   "id": "f0c33422",
   "metadata": {},
   "outputs": [],
   "source": [
    "# библиотеку, возможно, нужно установить\n",
    "\n",
    "!pip install catboost -q"
   ]
  },
  {
   "cell_type": "code",
   "execution_count": 18,
   "id": "ee872dc1",
   "metadata": {},
   "outputs": [],
   "source": [
    "import pandas as pd\n",
    "import numpy as np\n",
    "import matplotlib.pyplot as plt\n",
    "import seaborn as sns\n",
    "import sklearn\n",
    "import shap\n",
    "import phik\n",
    "import lightgbm\n",
    "import catboost\n",
    "import torch\n",
    "import torch.nn as nn\n",
    "\n",
    "from datetime import datetime, date, time\n",
    "from catboost import CatBoostRegressor\n",
    "from lightgbm import LGBMRegressor\n",
    "from sqlalchemy import create_engine, MetaData\n",
    "\n",
    "from sklearn.tree import DecisionTreeRegressor\n",
    "from sklearn.dummy import DummyRegressor\n",
    "from sklearn.neighbors import KNeighborsClassifier\n",
    "from sklearn.model_selection import train_test_split, GridSearchCV\n",
    "from sklearn.preprocessing import StandardScaler\n",
    "from sklearn.metrics import mean_absolute_error, r2_score\n",
    "\n",
    "from tensorflow.keras.models import Sequential\n",
    "from tensorflow.keras.layers import Dense, BatchNormalization, Dropout\n",
    "from tensorflow.keras.optimizers import Adam"
   ]
  },
  {
   "cell_type": "code",
   "execution_count": 8,
   "id": "78fc7d8c",
   "metadata": {},
   "outputs": [],
   "source": [
    "# зададим константу студента\n",
    "\n",
    "RANDOM_STATE = 111124"
   ]
  },
  {
   "cell_type": "markdown",
   "id": "26398139",
   "metadata": {},
   "source": [
    "## Загрузка данных"
   ]
  },
  {
   "cell_type": "code",
   "execution_count": 9,
   "id": "bcac75e2",
   "metadata": {},
   "outputs": [],
   "source": [
    "# вводим данные для подключения к базе\n",
    "\n",
    "db_config = {\n",
    "'user': 'praktikum_student',                          # имя пользователя\n",
    "'pwd': 'Sdf4$2;d-d30pp',                              # пароль\n",
    "'host': 'rc1b-wcoijxj3yxfsf3fs.mdb.yandexcloud.net',\n",
    "'port': 6432,                                         # порт подключения\n",
    "'db': 'data-science-final'                            # название базы данных\n",
    "}"
   ]
  },
  {
   "cell_type": "code",
   "execution_count": 10,
   "id": "ca97a623",
   "metadata": {},
   "outputs": [],
   "source": [
    "# создаем строку с данными и формируем движок\n",
    "\n",
    "connection_string = 'postgresql://{}:{}@{}:{}/{}'.format(\n",
    "    db_config['user'],\n",
    "    db_config['pwd'],\n",
    "    db_config['host'],\n",
    "    db_config['port'],\n",
    "    db_config['db'],\n",
    ") \n",
    "\n",
    "engine = create_engine(connection_string) "
   ]
  },
  {
   "cell_type": "code",
   "execution_count": 19,
   "id": "ce78b5e6",
   "metadata": {},
   "outputs": [],
   "source": [
    "metadata = MetaData()\n",
    "metadata.reflect(bind=engine, schema='steel')"
   ]
  },
  {
   "cell_type": "code",
   "execution_count": 20,
   "id": "bee634b8",
   "metadata": {},
   "outputs": [
    {
     "name": "stdout",
     "output_type": "stream",
     "text": [
      "dict_keys(['steel.data_arc', 'steel.data_bulk', 'steel.data_bulk_time', 'steel.data_gas', 'steel.data_temp', 'steel.data_wire', 'steel.data_wire_time'])\n"
     ]
    }
   ],
   "source": [
    "print(metadata.tables.keys())"
   ]
  },
  {
   "cell_type": "code",
   "execution_count": null,
   "id": "14abba6f",
   "metadata": {},
   "outputs": [],
   "source": []
  },
  {
   "cell_type": "code",
   "execution_count": null,
   "id": "80842a7e",
   "metadata": {},
   "outputs": [],
   "source": []
  },
  {
   "cell_type": "code",
   "execution_count": 11,
   "id": "0bd8d23b",
   "metadata": {},
   "outputs": [
    {
     "name": "stdout",
     "output_type": "stream",
     "text": [
      "Таблица: data_arc\n",
      "Размер: 14876 строк\n",
      "Названия колонок: key, BeginHeat, EndHeat, ActivePower, ReactivePower\n",
      "\n",
      "Таблица: data_bulk\n",
      "Размер: 3129 строк\n",
      "Названия колонок: key, Bulk 1, Bulk 2, Bulk 3, Bulk 4, Bulk 5, Bulk 6, Bulk 7, Bulk 8, Bulk 9, Bulk 10, Bulk 11, Bulk 12, Bulk 13, Bulk 14, Bulk 15\n",
      "\n",
      "Таблица: data_bulk_time\n",
      "Размер: 3129 строк\n",
      "Названия колонок: key, Bulk 1, Bulk 2, Bulk 3, Bulk 4, Bulk 5, Bulk 6, Bulk 7, Bulk 8, Bulk 9, Bulk 10, Bulk 11, Bulk 12, Bulk 13, Bulk 14, Bulk 15\n",
      "\n",
      "Таблица: data_gas\n",
      "Размер: 3239 строк\n",
      "Названия колонок: key, gas\n",
      "\n",
      "Таблица: data_temp\n",
      "Размер: 15907 строк\n",
      "Названия колонок: key, MesaureTime, Temperature\n",
      "\n",
      "Таблица: data_wire\n",
      "Размер: 3081 строк\n",
      "Названия колонок: key, Wire 1, Wire 2, Wire 3, Wire 4, Wire 5, Wire 6, Wire 7, Wire 8, Wire 9\n",
      "\n",
      "Таблица: data_wire_time\n",
      "Размер: 3081 строк\n",
      "Названия колонок: key, Wire 1, Wire 2, Wire 3, Wire 4, Wire 5, Wire 6, Wire 7, Wire 8, Wire 9\n",
      "\n"
     ]
    }
   ],
   "source": [
    "# выгрузим размеры и состав колонок таблиц\n",
    "\n",
    "table_names = ['data_arc', 'data_bulk', 'data_bulk_time', 'data_gas', 'data_temp', 'data_wire', 'data_wire_time']\n",
    "for table_name in table_names:     # Пройдемся по каждой таблице\n",
    "    \n",
    "    table_size_query = f\"SELECT COUNT(*) FROM steel.{table_name};\"   # Запрос для получения размера таблицы\n",
    "    table_size = pd.read_sql_query(table_size_query, con=engine)\n",
    "    \n",
    "    column_names_query = f\"SELECT column_name FROM information_schema.columns WHERE table_name = '{table_name}';\"   # Запрос для получения названий колонок\n",
    "    column_names = pd.read_sql_query(column_names_query, con=engine)\n",
    "    \n",
    "    print(f\"Таблица: {table_name}\")                            # Выведем информацию о таблице\n",
    "    print(f\"Размер: {table_size.iloc[0, 0]} строк\")\n",
    "    print(f\"Названия колонок: {', '.join(column_names['column_name'])}\\n\")"
   ]
  },
  {
   "cell_type": "markdown",
   "id": "646df10a",
   "metadata": {},
   "source": [
    "## Исследовательский анализ данных"
   ]
  },
  {
   "cell_type": "code",
   "execution_count": null,
   "id": "bda45e39",
   "metadata": {},
   "outputs": [],
   "source": []
  },
  {
   "cell_type": "code",
   "execution_count": null,
   "id": "2f41e77d",
   "metadata": {},
   "outputs": [],
   "source": []
  },
  {
   "cell_type": "code",
   "execution_count": null,
   "id": "2088f7ce",
   "metadata": {},
   "outputs": [],
   "source": []
  },
  {
   "cell_type": "code",
   "execution_count": null,
   "id": "627ee667",
   "metadata": {},
   "outputs": [],
   "source": []
  },
  {
   "cell_type": "code",
   "execution_count": null,
   "id": "2599eab4",
   "metadata": {},
   "outputs": [],
   "source": []
  },
  {
   "cell_type": "code",
   "execution_count": null,
   "id": "13dcc313",
   "metadata": {},
   "outputs": [],
   "source": []
  },
  {
   "cell_type": "code",
   "execution_count": null,
   "id": "d3a6f5a9",
   "metadata": {},
   "outputs": [],
   "source": []
  },
  {
   "cell_type": "code",
   "execution_count": null,
   "id": "ea91a1f3",
   "metadata": {},
   "outputs": [],
   "source": []
  },
  {
   "cell_type": "code",
   "execution_count": null,
   "id": "fdb1795f",
   "metadata": {},
   "outputs": [],
   "source": []
  },
  {
   "cell_type": "code",
   "execution_count": null,
   "id": "858d7141",
   "metadata": {},
   "outputs": [],
   "source": []
  },
  {
   "cell_type": "code",
   "execution_count": null,
   "id": "71403ea2",
   "metadata": {},
   "outputs": [],
   "source": []
  },
  {
   "cell_type": "code",
   "execution_count": null,
   "id": "43d11d47",
   "metadata": {},
   "outputs": [],
   "source": []
  },
  {
   "cell_type": "code",
   "execution_count": null,
   "id": "b17ab4fb",
   "metadata": {},
   "outputs": [],
   "source": []
  },
  {
   "cell_type": "code",
   "execution_count": null,
   "id": "be5f973a",
   "metadata": {},
   "outputs": [],
   "source": []
  },
  {
   "cell_type": "code",
   "execution_count": null,
   "id": "97975ae4",
   "metadata": {},
   "outputs": [],
   "source": []
  },
  {
   "cell_type": "code",
   "execution_count": null,
   "id": "efba716c",
   "metadata": {},
   "outputs": [],
   "source": []
  },
  {
   "cell_type": "code",
   "execution_count": null,
   "id": "7f86d692",
   "metadata": {},
   "outputs": [],
   "source": []
  },
  {
   "cell_type": "code",
   "execution_count": null,
   "id": "d917966f",
   "metadata": {},
   "outputs": [],
   "source": []
  },
  {
   "cell_type": "code",
   "execution_count": null,
   "id": "8f2567b0",
   "metadata": {},
   "outputs": [],
   "source": []
  },
  {
   "cell_type": "code",
   "execution_count": null,
   "id": "0467906c",
   "metadata": {},
   "outputs": [],
   "source": []
  },
  {
   "cell_type": "code",
   "execution_count": null,
   "id": "b3bae3c2",
   "metadata": {},
   "outputs": [],
   "source": []
  },
  {
   "cell_type": "code",
   "execution_count": null,
   "id": "445052dc",
   "metadata": {},
   "outputs": [],
   "source": []
  },
  {
   "cell_type": "code",
   "execution_count": null,
   "id": "6adebeda",
   "metadata": {},
   "outputs": [],
   "source": []
  },
  {
   "cell_type": "code",
   "execution_count": null,
   "id": "bc0050bc",
   "metadata": {},
   "outputs": [],
   "source": []
  },
  {
   "cell_type": "code",
   "execution_count": null,
   "id": "87e0a295",
   "metadata": {},
   "outputs": [],
   "source": []
  },
  {
   "cell_type": "code",
   "execution_count": null,
   "id": "fde49fb6",
   "metadata": {},
   "outputs": [],
   "source": []
  },
  {
   "cell_type": "code",
   "execution_count": null,
   "id": "a415f6d7",
   "metadata": {},
   "outputs": [],
   "source": []
  },
  {
   "cell_type": "code",
   "execution_count": null,
   "id": "b7facf76",
   "metadata": {},
   "outputs": [],
   "source": []
  },
  {
   "cell_type": "code",
   "execution_count": null,
   "id": "ee63a7cd",
   "metadata": {},
   "outputs": [],
   "source": []
  },
  {
   "cell_type": "code",
   "execution_count": null,
   "id": "e7167179",
   "metadata": {},
   "outputs": [],
   "source": []
  },
  {
   "cell_type": "code",
   "execution_count": null,
   "id": "50936c93",
   "metadata": {},
   "outputs": [],
   "source": []
  },
  {
   "cell_type": "code",
   "execution_count": null,
   "id": "b6360d5d",
   "metadata": {},
   "outputs": [],
   "source": []
  },
  {
   "cell_type": "code",
   "execution_count": null,
   "id": "6157e776",
   "metadata": {},
   "outputs": [],
   "source": []
  },
  {
   "cell_type": "code",
   "execution_count": null,
   "id": "4ccb16a6",
   "metadata": {},
   "outputs": [],
   "source": []
  },
  {
   "cell_type": "code",
   "execution_count": null,
   "id": "c8029c77",
   "metadata": {},
   "outputs": [],
   "source": []
  },
  {
   "cell_type": "code",
   "execution_count": null,
   "id": "2ce80c4b",
   "metadata": {},
   "outputs": [],
   "source": []
  },
  {
   "cell_type": "code",
   "execution_count": null,
   "id": "d1daedcd",
   "metadata": {},
   "outputs": [],
   "source": []
  },
  {
   "cell_type": "code",
   "execution_count": null,
   "id": "d278b0fb",
   "metadata": {},
   "outputs": [],
   "source": []
  },
  {
   "cell_type": "code",
   "execution_count": null,
   "id": "328e4283",
   "metadata": {},
   "outputs": [],
   "source": []
  },
  {
   "cell_type": "code",
   "execution_count": null,
   "id": "7a8d7f18",
   "metadata": {},
   "outputs": [],
   "source": []
  },
  {
   "cell_type": "code",
   "execution_count": null,
   "id": "b7ab3492",
   "metadata": {},
   "outputs": [],
   "source": []
  },
  {
   "cell_type": "code",
   "execution_count": null,
   "id": "5f96c5b7",
   "metadata": {},
   "outputs": [],
   "source": []
  },
  {
   "cell_type": "code",
   "execution_count": null,
   "id": "8252829a",
   "metadata": {},
   "outputs": [],
   "source": []
  },
  {
   "cell_type": "code",
   "execution_count": null,
   "id": "a4b6f78d",
   "metadata": {},
   "outputs": [],
   "source": []
  },
  {
   "cell_type": "code",
   "execution_count": null,
   "id": "c40343c7",
   "metadata": {},
   "outputs": [],
   "source": []
  },
  {
   "cell_type": "code",
   "execution_count": null,
   "id": "249487ba",
   "metadata": {},
   "outputs": [],
   "source": []
  },
  {
   "cell_type": "code",
   "execution_count": null,
   "id": "6b1587c7",
   "metadata": {},
   "outputs": [],
   "source": []
  },
  {
   "cell_type": "code",
   "execution_count": null,
   "id": "5509cb1e",
   "metadata": {},
   "outputs": [],
   "source": []
  },
  {
   "cell_type": "code",
   "execution_count": null,
   "id": "ea2895ff",
   "metadata": {},
   "outputs": [],
   "source": []
  },
  {
   "cell_type": "code",
   "execution_count": null,
   "id": "957c8cdb",
   "metadata": {},
   "outputs": [],
   "source": []
  },
  {
   "cell_type": "code",
   "execution_count": null,
   "id": "e35af7f7",
   "metadata": {},
   "outputs": [],
   "source": []
  },
  {
   "cell_type": "code",
   "execution_count": null,
   "id": "62375b21",
   "metadata": {},
   "outputs": [],
   "source": []
  },
  {
   "cell_type": "code",
   "execution_count": null,
   "id": "63bb8b04",
   "metadata": {},
   "outputs": [],
   "source": []
  },
  {
   "cell_type": "code",
   "execution_count": null,
   "id": "bb01e4f4",
   "metadata": {},
   "outputs": [],
   "source": []
  },
  {
   "cell_type": "code",
   "execution_count": null,
   "id": "8c888ab9",
   "metadata": {},
   "outputs": [],
   "source": []
  },
  {
   "cell_type": "code",
   "execution_count": null,
   "id": "84de7745",
   "metadata": {},
   "outputs": [],
   "source": []
  },
  {
   "cell_type": "code",
   "execution_count": null,
   "id": "0a881c6f",
   "metadata": {},
   "outputs": [],
   "source": []
  },
  {
   "cell_type": "code",
   "execution_count": null,
   "id": "27e1f9c6",
   "metadata": {},
   "outputs": [],
   "source": []
  },
  {
   "cell_type": "code",
   "execution_count": null,
   "id": "7ac59b4a",
   "metadata": {},
   "outputs": [],
   "source": []
  },
  {
   "cell_type": "code",
   "execution_count": null,
   "id": "5e0d0cb3",
   "metadata": {},
   "outputs": [],
   "source": []
  },
  {
   "cell_type": "code",
   "execution_count": null,
   "id": "50bcc3ac",
   "metadata": {},
   "outputs": [],
   "source": []
  },
  {
   "cell_type": "code",
   "execution_count": null,
   "id": "43dd646d",
   "metadata": {},
   "outputs": [],
   "source": []
  },
  {
   "cell_type": "code",
   "execution_count": null,
   "id": "7bf94906",
   "metadata": {},
   "outputs": [],
   "source": []
  },
  {
   "cell_type": "code",
   "execution_count": null,
   "id": "094453b6",
   "metadata": {},
   "outputs": [],
   "source": []
  },
  {
   "cell_type": "code",
   "execution_count": null,
   "id": "0c9c54f4",
   "metadata": {},
   "outputs": [],
   "source": []
  },
  {
   "cell_type": "code",
   "execution_count": null,
   "id": "606ab70b",
   "metadata": {},
   "outputs": [],
   "source": []
  },
  {
   "cell_type": "code",
   "execution_count": null,
   "id": "162912d7",
   "metadata": {},
   "outputs": [],
   "source": []
  },
  {
   "cell_type": "code",
   "execution_count": null,
   "id": "967111a1",
   "metadata": {},
   "outputs": [],
   "source": []
  },
  {
   "cell_type": "code",
   "execution_count": null,
   "id": "e46e3c05",
   "metadata": {},
   "outputs": [],
   "source": []
  }
 ],
 "metadata": {
  "kernelspec": {
   "display_name": "Python 3 (ipykernel)",
   "language": "python",
   "name": "python3"
  },
  "language_info": {
   "codemirror_mode": {
    "name": "ipython",
    "version": 3
   },
   "file_extension": ".py",
   "mimetype": "text/x-python",
   "name": "python",
   "nbconvert_exporter": "python",
   "pygments_lexer": "ipython3",
   "version": "3.9.18"
  },
  "toc": {
   "base_numbering": 1,
   "nav_menu": {},
   "number_sections": true,
   "sideBar": true,
   "skip_h1_title": true,
   "title_cell": "Table of Contents",
   "title_sidebar": "Contents",
   "toc_cell": true,
   "toc_position": {
    "height": "calc(100% - 180px)",
    "left": "10px",
    "top": "150px",
    "width": "260px"
   },
   "toc_section_display": true,
   "toc_window_display": true
  },
  "varInspector": {
   "cols": {
    "lenName": 16,
    "lenType": 16,
    "lenVar": 40
   },
   "kernels_config": {
    "python": {
     "delete_cmd_postfix": "",
     "delete_cmd_prefix": "del ",
     "library": "var_list.py",
     "varRefreshCmd": "print(var_dic_list())"
    },
    "r": {
     "delete_cmd_postfix": ") ",
     "delete_cmd_prefix": "rm(",
     "library": "var_list.r",
     "varRefreshCmd": "cat(var_dic_list()) "
    }
   },
   "types_to_exclude": [
    "module",
    "function",
    "builtin_function_or_method",
    "instance",
    "_Feature"
   ],
   "window_display": false
  }
 },
 "nbformat": 4,
 "nbformat_minor": 5
}
